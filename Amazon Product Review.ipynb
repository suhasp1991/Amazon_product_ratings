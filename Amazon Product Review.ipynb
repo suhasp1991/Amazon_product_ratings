{
 "cells": [
  {
   "cell_type": "code",
   "execution_count": 22,
   "id": "5fd3a0da",
   "metadata": {},
   "outputs": [],
   "source": [
    "        import pandas as pd\n",
    "        from pandas_profiling import ProfileReport\n",
    "        from datetime import datetime as dt\n",
    "        import os\n",
    "        import sys\n",
    "        import seaborn as sns\n",
    "        import numpy as np\n",
    "        import matplotlib.pyplot as plt\n",
    "        %matplotlib inline\n",
    "\n",
    "        #print(\"All Modules are Loaded ...  \")\n",
    "    \n",
    "    # except Exception as e:\n",
    "    \n",
    "       # print(\"Some Modules are missing {}\".format(e))"
   ]
  },
  {
   "cell_type": "code",
   "execution_count": 23,
   "id": "4ab27cb6",
   "metadata": {},
   "outputs": [],
   "source": [
    "#quick report by pandas profiling"
   ]
  },
  {
   "cell_type": "code",
   "execution_count": 24,
   "id": "30e0c2cf",
   "metadata": {},
   "outputs": [],
   "source": [
    "#profile = ProfileReport(df, title='Amazon Product review', explorative=True)"
   ]
  },
  {
   "cell_type": "code",
   "execution_count": 25,
   "id": "60724702",
   "metadata": {},
   "outputs": [],
   "source": [
    "#profile.to_file(\"output.html\")"
   ]
  },
  {
   "cell_type": "code",
   "execution_count": 26,
   "id": "be9582a3",
   "metadata": {},
   "outputs": [],
   "source": [
    "#EDA - Traditional way\n"
   ]
  },
  {
   "cell_type": "code",
   "execution_count": 27,
   "id": "75eb30d5",
   "metadata": {
    "scrolled": false
   },
   "outputs": [
    {
     "data": {
      "text/html": [
       "<div>\n",
       "<style scoped>\n",
       "    .dataframe tbody tr th:only-of-type {\n",
       "        vertical-align: middle;\n",
       "    }\n",
       "\n",
       "    .dataframe tbody tr th {\n",
       "        vertical-align: top;\n",
       "    }\n",
       "\n",
       "    .dataframe thead th {\n",
       "        text-align: right;\n",
       "    }\n",
       "</style>\n",
       "<table border=\"1\" class=\"dataframe\">\n",
       "  <thead>\n",
       "    <tr style=\"text-align: right;\">\n",
       "      <th></th>\n",
       "      <th>Unnamed: 0</th>\n",
       "      <th>id</th>\n",
       "      <th>dateAdded</th>\n",
       "      <th>dateUpdated</th>\n",
       "      <th>name</th>\n",
       "      <th>asins</th>\n",
       "      <th>brand</th>\n",
       "      <th>categories</th>\n",
       "      <th>primaryCategories</th>\n",
       "      <th>imageURLs</th>\n",
       "      <th>...</th>\n",
       "      <th>reviews.id</th>\n",
       "      <th>reviews.numHelpful</th>\n",
       "      <th>reviews.rating</th>\n",
       "      <th>reviews.sourceURLs</th>\n",
       "      <th>reviews.text</th>\n",
       "      <th>reviews.title</th>\n",
       "      <th>reviews.username</th>\n",
       "      <th>sourceURLs</th>\n",
       "      <th>filename</th>\n",
       "      <th>reviews.didPurchase</th>\n",
       "    </tr>\n",
       "  </thead>\n",
       "  <tbody>\n",
       "    <tr>\n",
       "      <th>0</th>\n",
       "      <td>0</td>\n",
       "      <td>AVqVGZNvQMlgsOJE6eUY</td>\n",
       "      <td>2017-03-03T16:56:05Z</td>\n",
       "      <td>2018-10-25T16:36:31Z</td>\n",
       "      <td>Amazon Kindle E-Reader 6\" Wifi (8th Generation...</td>\n",
       "      <td>B00ZV9PXP2</td>\n",
       "      <td>Amazon</td>\n",
       "      <td>Computers,Electronics Features,Tablets,Electro...</td>\n",
       "      <td>Electronics</td>\n",
       "      <td>https://pisces.bbystatic.com/image2/BestBuy_US...</td>\n",
       "      <td>...</td>\n",
       "      <td>NaN</td>\n",
       "      <td>0.0</td>\n",
       "      <td>3</td>\n",
       "      <td>http://reviews.bestbuy.com/3545/5442403/review...</td>\n",
       "      <td>I thought it would be as big as small paper bu...</td>\n",
       "      <td>Too small</td>\n",
       "      <td>llyyue</td>\n",
       "      <td>https://www.newegg.com/Product/Product.aspx%25...</td>\n",
       "      <td>S:\\Amazon Product Review\\Data Set\\data\\data_fi...</td>\n",
       "      <td>NaN</td>\n",
       "    </tr>\n",
       "    <tr>\n",
       "      <th>1</th>\n",
       "      <td>1</td>\n",
       "      <td>AVqVGZNvQMlgsOJE6eUY</td>\n",
       "      <td>2017-03-03T16:56:05Z</td>\n",
       "      <td>2018-10-25T16:36:31Z</td>\n",
       "      <td>Amazon Kindle E-Reader 6\" Wifi (8th Generation...</td>\n",
       "      <td>B00ZV9PXP2</td>\n",
       "      <td>Amazon</td>\n",
       "      <td>Computers,Electronics Features,Tablets,Electro...</td>\n",
       "      <td>Electronics</td>\n",
       "      <td>https://pisces.bbystatic.com/image2/BestBuy_US...</td>\n",
       "      <td>...</td>\n",
       "      <td>NaN</td>\n",
       "      <td>0.0</td>\n",
       "      <td>5</td>\n",
       "      <td>http://reviews.bestbuy.com/3545/5442403/review...</td>\n",
       "      <td>This kindle is light and easy to use especiall...</td>\n",
       "      <td>Great light reader. Easy to use at the beach</td>\n",
       "      <td>Charmi</td>\n",
       "      <td>https://www.newegg.com/Product/Product.aspx%25...</td>\n",
       "      <td>S:\\Amazon Product Review\\Data Set\\data\\data_fi...</td>\n",
       "      <td>NaN</td>\n",
       "    </tr>\n",
       "    <tr>\n",
       "      <th>2</th>\n",
       "      <td>2</td>\n",
       "      <td>AVqVGZNvQMlgsOJE6eUY</td>\n",
       "      <td>2017-03-03T16:56:05Z</td>\n",
       "      <td>2018-10-25T16:36:31Z</td>\n",
       "      <td>Amazon Kindle E-Reader 6\" Wifi (8th Generation...</td>\n",
       "      <td>B00ZV9PXP2</td>\n",
       "      <td>Amazon</td>\n",
       "      <td>Computers,Electronics Features,Tablets,Electro...</td>\n",
       "      <td>Electronics</td>\n",
       "      <td>https://pisces.bbystatic.com/image2/BestBuy_US...</td>\n",
       "      <td>...</td>\n",
       "      <td>NaN</td>\n",
       "      <td>0.0</td>\n",
       "      <td>4</td>\n",
       "      <td>https://reviews.bestbuy.com/3545/5442403/revie...</td>\n",
       "      <td>Didnt know how much i'd use a kindle so went f...</td>\n",
       "      <td>Great for the price</td>\n",
       "      <td>johnnyjojojo</td>\n",
       "      <td>https://www.newegg.com/Product/Product.aspx%25...</td>\n",
       "      <td>S:\\Amazon Product Review\\Data Set\\data\\data_fi...</td>\n",
       "      <td>NaN</td>\n",
       "    </tr>\n",
       "    <tr>\n",
       "      <th>3</th>\n",
       "      <td>3</td>\n",
       "      <td>AVqVGZNvQMlgsOJE6eUY</td>\n",
       "      <td>2017-03-03T16:56:05Z</td>\n",
       "      <td>2018-10-25T16:36:31Z</td>\n",
       "      <td>Amazon Kindle E-Reader 6\" Wifi (8th Generation...</td>\n",
       "      <td>B00ZV9PXP2</td>\n",
       "      <td>Amazon</td>\n",
       "      <td>Computers,Electronics Features,Tablets,Electro...</td>\n",
       "      <td>Electronics</td>\n",
       "      <td>https://pisces.bbystatic.com/image2/BestBuy_US...</td>\n",
       "      <td>...</td>\n",
       "      <td>177283626.0</td>\n",
       "      <td>3.0</td>\n",
       "      <td>5</td>\n",
       "      <td>https://redsky.target.com/groot-domain-api/v1/...</td>\n",
       "      <td>I am 100 happy with my purchase. I caught it o...</td>\n",
       "      <td>A Great Buy</td>\n",
       "      <td>Kdperry</td>\n",
       "      <td>https://www.newegg.com/Product/Product.aspx%25...</td>\n",
       "      <td>S:\\Amazon Product Review\\Data Set\\data\\data_fi...</td>\n",
       "      <td>NaN</td>\n",
       "    </tr>\n",
       "    <tr>\n",
       "      <th>4</th>\n",
       "      <td>4</td>\n",
       "      <td>AVqVGZNvQMlgsOJE6eUY</td>\n",
       "      <td>2017-03-03T16:56:05Z</td>\n",
       "      <td>2018-10-25T16:36:31Z</td>\n",
       "      <td>Amazon Kindle E-Reader 6\" Wifi (8th Generation...</td>\n",
       "      <td>B00ZV9PXP2</td>\n",
       "      <td>Amazon</td>\n",
       "      <td>Computers,Electronics Features,Tablets,Electro...</td>\n",
       "      <td>Electronics</td>\n",
       "      <td>https://pisces.bbystatic.com/image2/BestBuy_US...</td>\n",
       "      <td>...</td>\n",
       "      <td>NaN</td>\n",
       "      <td>0.0</td>\n",
       "      <td>5</td>\n",
       "      <td>https://reviews.bestbuy.com/3545/5442403/revie...</td>\n",
       "      <td>Solid entry level Kindle. Great for kids. Gift...</td>\n",
       "      <td>Solid entry-level Kindle. Great for kids</td>\n",
       "      <td>Johnnyblack</td>\n",
       "      <td>https://www.newegg.com/Product/Product.aspx%25...</td>\n",
       "      <td>S:\\Amazon Product Review\\Data Set\\data\\data_fi...</td>\n",
       "      <td>NaN</td>\n",
       "    </tr>\n",
       "  </tbody>\n",
       "</table>\n",
       "<p>5 rows × 27 columns</p>\n",
       "</div>"
      ],
      "text/plain": [
       "   Unnamed: 0                    id             dateAdded  \\\n",
       "0           0  AVqVGZNvQMlgsOJE6eUY  2017-03-03T16:56:05Z   \n",
       "1           1  AVqVGZNvQMlgsOJE6eUY  2017-03-03T16:56:05Z   \n",
       "2           2  AVqVGZNvQMlgsOJE6eUY  2017-03-03T16:56:05Z   \n",
       "3           3  AVqVGZNvQMlgsOJE6eUY  2017-03-03T16:56:05Z   \n",
       "4           4  AVqVGZNvQMlgsOJE6eUY  2017-03-03T16:56:05Z   \n",
       "\n",
       "            dateUpdated                                               name  \\\n",
       "0  2018-10-25T16:36:31Z  Amazon Kindle E-Reader 6\" Wifi (8th Generation...   \n",
       "1  2018-10-25T16:36:31Z  Amazon Kindle E-Reader 6\" Wifi (8th Generation...   \n",
       "2  2018-10-25T16:36:31Z  Amazon Kindle E-Reader 6\" Wifi (8th Generation...   \n",
       "3  2018-10-25T16:36:31Z  Amazon Kindle E-Reader 6\" Wifi (8th Generation...   \n",
       "4  2018-10-25T16:36:31Z  Amazon Kindle E-Reader 6\" Wifi (8th Generation...   \n",
       "\n",
       "        asins   brand                                         categories  \\\n",
       "0  B00ZV9PXP2  Amazon  Computers,Electronics Features,Tablets,Electro...   \n",
       "1  B00ZV9PXP2  Amazon  Computers,Electronics Features,Tablets,Electro...   \n",
       "2  B00ZV9PXP2  Amazon  Computers,Electronics Features,Tablets,Electro...   \n",
       "3  B00ZV9PXP2  Amazon  Computers,Electronics Features,Tablets,Electro...   \n",
       "4  B00ZV9PXP2  Amazon  Computers,Electronics Features,Tablets,Electro...   \n",
       "\n",
       "  primaryCategories                                          imageURLs  ...  \\\n",
       "0       Electronics  https://pisces.bbystatic.com/image2/BestBuy_US...  ...   \n",
       "1       Electronics  https://pisces.bbystatic.com/image2/BestBuy_US...  ...   \n",
       "2       Electronics  https://pisces.bbystatic.com/image2/BestBuy_US...  ...   \n",
       "3       Electronics  https://pisces.bbystatic.com/image2/BestBuy_US...  ...   \n",
       "4       Electronics  https://pisces.bbystatic.com/image2/BestBuy_US...  ...   \n",
       "\n",
       "    reviews.id reviews.numHelpful reviews.rating  \\\n",
       "0          NaN                0.0              3   \n",
       "1          NaN                0.0              5   \n",
       "2          NaN                0.0              4   \n",
       "3  177283626.0                3.0              5   \n",
       "4          NaN                0.0              5   \n",
       "\n",
       "                                  reviews.sourceURLs  \\\n",
       "0  http://reviews.bestbuy.com/3545/5442403/review...   \n",
       "1  http://reviews.bestbuy.com/3545/5442403/review...   \n",
       "2  https://reviews.bestbuy.com/3545/5442403/revie...   \n",
       "3  https://redsky.target.com/groot-domain-api/v1/...   \n",
       "4  https://reviews.bestbuy.com/3545/5442403/revie...   \n",
       "\n",
       "                                        reviews.text  \\\n",
       "0  I thought it would be as big as small paper bu...   \n",
       "1  This kindle is light and easy to use especiall...   \n",
       "2  Didnt know how much i'd use a kindle so went f...   \n",
       "3  I am 100 happy with my purchase. I caught it o...   \n",
       "4  Solid entry level Kindle. Great for kids. Gift...   \n",
       "\n",
       "                                  reviews.title reviews.username  \\\n",
       "0                                     Too small           llyyue   \n",
       "1  Great light reader. Easy to use at the beach           Charmi   \n",
       "2                           Great for the price     johnnyjojojo   \n",
       "3                                   A Great Buy          Kdperry   \n",
       "4      Solid entry-level Kindle. Great for kids      Johnnyblack   \n",
       "\n",
       "                                          sourceURLs  \\\n",
       "0  https://www.newegg.com/Product/Product.aspx%25...   \n",
       "1  https://www.newegg.com/Product/Product.aspx%25...   \n",
       "2  https://www.newegg.com/Product/Product.aspx%25...   \n",
       "3  https://www.newegg.com/Product/Product.aspx%25...   \n",
       "4  https://www.newegg.com/Product/Product.aspx%25...   \n",
       "\n",
       "                                            filename  reviews.didPurchase  \n",
       "0  S:\\Amazon Product Review\\Data Set\\data\\data_fi...                  NaN  \n",
       "1  S:\\Amazon Product Review\\Data Set\\data\\data_fi...                  NaN  \n",
       "2  S:\\Amazon Product Review\\Data Set\\data\\data_fi...                  NaN  \n",
       "3  S:\\Amazon Product Review\\Data Set\\data\\data_fi...                  NaN  \n",
       "4  S:\\Amazon Product Review\\Data Set\\data\\data_fi...                  NaN  \n",
       "\n",
       "[5 rows x 27 columns]"
      ]
     },
     "execution_count": 27,
     "metadata": {},
     "output_type": "execute_result"
    }
   ],
   "source": [
    "df = pd.read_csv('amazon.csv', low_memory=False)\n",
    "df.head()\n"
   ]
  },
  {
   "cell_type": "code",
   "execution_count": 28,
   "id": "fa2cf6f2",
   "metadata": {
    "scrolled": true
   },
   "outputs": [
    {
     "data": {
      "text/plain": [
       "0        2017-03-03T16:56:05Z\n",
       "1        2017-03-03T16:56:05Z\n",
       "2        2017-03-03T16:56:05Z\n",
       "3        2017-03-03T16:56:05Z\n",
       "4        2017-03-03T16:56:05Z\n",
       "                 ...         \n",
       "33327    2017-03-06T14:59:43Z\n",
       "33328    2017-03-06T14:59:43Z\n",
       "33329    2017-03-06T14:59:43Z\n",
       "33330    2017-03-06T14:59:43Z\n",
       "33331    2017-03-06T14:59:43Z\n",
       "Name: dateAdded, Length: 33332, dtype: object"
      ]
     },
     "execution_count": 28,
     "metadata": {},
     "output_type": "execute_result"
    }
   ],
   "source": [
    "df[\"dateAdded\"]"
   ]
  },
  {
   "cell_type": "code",
   "execution_count": 29,
   "id": "b633d586",
   "metadata": {
    "scrolled": true
   },
   "outputs": [
    {
     "ename": "ValueError",
     "evalue": "time data '2017-03-03T16:56:05Z' does not match format '%Y %d %mT%H:%M:%SZ' (match)",
     "output_type": "error",
     "traceback": [
      "\u001b[1;31m---------------------------------------------------------------------------\u001b[0m",
      "\u001b[1;31mTypeError\u001b[0m                                 Traceback (most recent call last)",
      "\u001b[1;32m~\\anaconda3\\lib\\site-packages\\pandas\\core\\tools\\datetimes.py\u001b[0m in \u001b[0;36m_convert_listlike_datetimes\u001b[1;34m(arg, format, name, tz, unit, errors, infer_datetime_format, dayfirst, yearfirst, exact)\u001b[0m\n\u001b[0;32m    455\u001b[0m             \u001b[1;32mtry\u001b[0m\u001b[1;33m:\u001b[0m\u001b[1;33m\u001b[0m\u001b[1;33m\u001b[0m\u001b[0m\n\u001b[1;32m--> 456\u001b[1;33m                 \u001b[0mvalues\u001b[0m\u001b[1;33m,\u001b[0m \u001b[0mtz\u001b[0m \u001b[1;33m=\u001b[0m \u001b[0mconversion\u001b[0m\u001b[1;33m.\u001b[0m\u001b[0mdatetime_to_datetime64\u001b[0m\u001b[1;33m(\u001b[0m\u001b[0marg\u001b[0m\u001b[1;33m)\u001b[0m\u001b[1;33m\u001b[0m\u001b[1;33m\u001b[0m\u001b[0m\n\u001b[0m\u001b[0;32m    457\u001b[0m                 \u001b[0mdta\u001b[0m \u001b[1;33m=\u001b[0m \u001b[0mDatetimeArray\u001b[0m\u001b[1;33m(\u001b[0m\u001b[0mvalues\u001b[0m\u001b[1;33m,\u001b[0m \u001b[0mdtype\u001b[0m\u001b[1;33m=\u001b[0m\u001b[0mtz_to_dtype\u001b[0m\u001b[1;33m(\u001b[0m\u001b[0mtz\u001b[0m\u001b[1;33m)\u001b[0m\u001b[1;33m)\u001b[0m\u001b[1;33m\u001b[0m\u001b[1;33m\u001b[0m\u001b[0m\n",
      "\u001b[1;32mpandas\\_libs\\tslibs\\conversion.pyx\u001b[0m in \u001b[0;36mpandas._libs.tslibs.conversion.datetime_to_datetime64\u001b[1;34m()\u001b[0m\n",
      "\u001b[1;31mTypeError\u001b[0m: Unrecognized value type: <class 'str'>",
      "\nDuring handling of the above exception, another exception occurred:\n",
      "\u001b[1;31mValueError\u001b[0m                                Traceback (most recent call last)",
      "\u001b[1;32m<ipython-input-29-2f8950cc4479>\u001b[0m in \u001b[0;36m<module>\u001b[1;34m\u001b[0m\n\u001b[0;32m      1\u001b[0m \u001b[0mdf\u001b[0m \u001b[1;33m=\u001b[0m \u001b[0mpd\u001b[0m\u001b[1;33m.\u001b[0m\u001b[0mread_csv\u001b[0m\u001b[1;33m(\u001b[0m\u001b[1;34m\"amazon.csv\"\u001b[0m\u001b[1;33m,\u001b[0m \u001b[0mdate_parser\u001b[0m\u001b[1;33m=\u001b[0m\u001b[1;33m[\u001b[0m\u001b[1;34m\"dateAdded\"\u001b[0m\u001b[1;33m]\u001b[0m\u001b[1;33m,\u001b[0m \u001b[0minfer_datetime_format\u001b[0m\u001b[1;33m=\u001b[0m\u001b[1;32mTrue\u001b[0m\u001b[1;33m,\u001b[0m \u001b[0mlow_memory\u001b[0m\u001b[1;33m=\u001b[0m \u001b[1;32mFalse\u001b[0m\u001b[1;33m)\u001b[0m\u001b[1;33m\u001b[0m\u001b[1;33m\u001b[0m\u001b[0m\n\u001b[1;32m----> 2\u001b[1;33m \u001b[0mpd\u001b[0m\u001b[1;33m.\u001b[0m\u001b[0mto_datetime\u001b[0m\u001b[1;33m(\u001b[0m\u001b[0mdf\u001b[0m\u001b[1;33m[\u001b[0m\u001b[1;34m\"dateAdded\"\u001b[0m\u001b[1;33m]\u001b[0m\u001b[1;33m,\u001b[0m \u001b[0mformat\u001b[0m\u001b[1;33m=\u001b[0m\u001b[1;34m\"%Y %d %mT%H:%M:%SZ\"\u001b[0m\u001b[1;33m)\u001b[0m\u001b[1;33m\u001b[0m\u001b[1;33m\u001b[0m\u001b[0m\n\u001b[0m\u001b[0;32m      3\u001b[0m \u001b[1;31m#df1['dateAdded'] =pd.to_datetime(df1, format='%Y-%m-%d%T%H:%M:%S%Z')\u001b[0m\u001b[1;33m\u001b[0m\u001b[1;33m\u001b[0m\u001b[1;33m\u001b[0m\u001b[0m\n\u001b[0;32m      4\u001b[0m \u001b[1;31m#df['dateAdded'] = datetime.fromisoformat(df['dateAdded'])\u001b[0m\u001b[1;33m\u001b[0m\u001b[1;33m\u001b[0m\u001b[1;33m\u001b[0m\u001b[0m\n\u001b[0;32m      5\u001b[0m \u001b[1;31m#df['dateAdded'] = pd.to_datetime(df['dateAdded'], infer_datetime_format=True)\u001b[0m\u001b[1;33m\u001b[0m\u001b[1;33m\u001b[0m\u001b[1;33m\u001b[0m\u001b[0m\n",
      "\u001b[1;32m~\\anaconda3\\lib\\site-packages\\pandas\\core\\tools\\datetimes.py\u001b[0m in \u001b[0;36mto_datetime\u001b[1;34m(arg, errors, dayfirst, yearfirst, utc, format, exact, unit, infer_datetime_format, origin, cache)\u001b[0m\n\u001b[0;32m    799\u001b[0m                 \u001b[0mresult\u001b[0m \u001b[1;33m=\u001b[0m \u001b[0mresult\u001b[0m\u001b[1;33m.\u001b[0m\u001b[0mtz_localize\u001b[0m\u001b[1;33m(\u001b[0m\u001b[0mtz\u001b[0m\u001b[1;33m)\u001b[0m\u001b[1;33m\u001b[0m\u001b[1;33m\u001b[0m\u001b[0m\n\u001b[0;32m    800\u001b[0m     \u001b[1;32melif\u001b[0m \u001b[0misinstance\u001b[0m\u001b[1;33m(\u001b[0m\u001b[0marg\u001b[0m\u001b[1;33m,\u001b[0m \u001b[0mABCSeries\u001b[0m\u001b[1;33m)\u001b[0m\u001b[1;33m:\u001b[0m\u001b[1;33m\u001b[0m\u001b[1;33m\u001b[0m\u001b[0m\n\u001b[1;32m--> 801\u001b[1;33m         \u001b[0mcache_array\u001b[0m \u001b[1;33m=\u001b[0m \u001b[0m_maybe_cache\u001b[0m\u001b[1;33m(\u001b[0m\u001b[0marg\u001b[0m\u001b[1;33m,\u001b[0m \u001b[0mformat\u001b[0m\u001b[1;33m,\u001b[0m \u001b[0mcache\u001b[0m\u001b[1;33m,\u001b[0m \u001b[0mconvert_listlike\u001b[0m\u001b[1;33m)\u001b[0m\u001b[1;33m\u001b[0m\u001b[1;33m\u001b[0m\u001b[0m\n\u001b[0m\u001b[0;32m    802\u001b[0m         \u001b[1;32mif\u001b[0m \u001b[1;32mnot\u001b[0m \u001b[0mcache_array\u001b[0m\u001b[1;33m.\u001b[0m\u001b[0mempty\u001b[0m\u001b[1;33m:\u001b[0m\u001b[1;33m\u001b[0m\u001b[1;33m\u001b[0m\u001b[0m\n\u001b[0;32m    803\u001b[0m             \u001b[0mresult\u001b[0m \u001b[1;33m=\u001b[0m \u001b[0marg\u001b[0m\u001b[1;33m.\u001b[0m\u001b[0mmap\u001b[0m\u001b[1;33m(\u001b[0m\u001b[0mcache_array\u001b[0m\u001b[1;33m)\u001b[0m\u001b[1;33m\u001b[0m\u001b[1;33m\u001b[0m\u001b[0m\n",
      "\u001b[1;32m~\\anaconda3\\lib\\site-packages\\pandas\\core\\tools\\datetimes.py\u001b[0m in \u001b[0;36m_maybe_cache\u001b[1;34m(arg, format, cache, convert_listlike)\u001b[0m\n\u001b[0;32m    176\u001b[0m         \u001b[0munique_dates\u001b[0m \u001b[1;33m=\u001b[0m \u001b[0munique\u001b[0m\u001b[1;33m(\u001b[0m\u001b[0marg\u001b[0m\u001b[1;33m)\u001b[0m\u001b[1;33m\u001b[0m\u001b[1;33m\u001b[0m\u001b[0m\n\u001b[0;32m    177\u001b[0m         \u001b[1;32mif\u001b[0m \u001b[0mlen\u001b[0m\u001b[1;33m(\u001b[0m\u001b[0munique_dates\u001b[0m\u001b[1;33m)\u001b[0m \u001b[1;33m<\u001b[0m \u001b[0mlen\u001b[0m\u001b[1;33m(\u001b[0m\u001b[0marg\u001b[0m\u001b[1;33m)\u001b[0m\u001b[1;33m:\u001b[0m\u001b[1;33m\u001b[0m\u001b[1;33m\u001b[0m\u001b[0m\n\u001b[1;32m--> 178\u001b[1;33m             \u001b[0mcache_dates\u001b[0m \u001b[1;33m=\u001b[0m \u001b[0mconvert_listlike\u001b[0m\u001b[1;33m(\u001b[0m\u001b[0munique_dates\u001b[0m\u001b[1;33m,\u001b[0m \u001b[0mformat\u001b[0m\u001b[1;33m)\u001b[0m\u001b[1;33m\u001b[0m\u001b[1;33m\u001b[0m\u001b[0m\n\u001b[0m\u001b[0;32m    179\u001b[0m             \u001b[0mcache_array\u001b[0m \u001b[1;33m=\u001b[0m \u001b[0mSeries\u001b[0m\u001b[1;33m(\u001b[0m\u001b[0mcache_dates\u001b[0m\u001b[1;33m,\u001b[0m \u001b[0mindex\u001b[0m\u001b[1;33m=\u001b[0m\u001b[0munique_dates\u001b[0m\u001b[1;33m)\u001b[0m\u001b[1;33m\u001b[0m\u001b[1;33m\u001b[0m\u001b[0m\n\u001b[0;32m    180\u001b[0m     \u001b[1;32mreturn\u001b[0m \u001b[0mcache_array\u001b[0m\u001b[1;33m\u001b[0m\u001b[1;33m\u001b[0m\u001b[0m\n",
      "\u001b[1;32m~\\anaconda3\\lib\\site-packages\\pandas\\core\\tools\\datetimes.py\u001b[0m in \u001b[0;36m_convert_listlike_datetimes\u001b[1;34m(arg, format, name, tz, unit, errors, infer_datetime_format, dayfirst, yearfirst, exact)\u001b[0m\n\u001b[0;32m    458\u001b[0m                 \u001b[1;32mreturn\u001b[0m \u001b[0mDatetimeIndex\u001b[0m\u001b[1;33m.\u001b[0m\u001b[0m_simple_new\u001b[0m\u001b[1;33m(\u001b[0m\u001b[0mdta\u001b[0m\u001b[1;33m,\u001b[0m \u001b[0mname\u001b[0m\u001b[1;33m=\u001b[0m\u001b[0mname\u001b[0m\u001b[1;33m)\u001b[0m\u001b[1;33m\u001b[0m\u001b[1;33m\u001b[0m\u001b[0m\n\u001b[0;32m    459\u001b[0m             \u001b[1;32mexcept\u001b[0m \u001b[1;33m(\u001b[0m\u001b[0mValueError\u001b[0m\u001b[1;33m,\u001b[0m \u001b[0mTypeError\u001b[0m\u001b[1;33m)\u001b[0m\u001b[1;33m:\u001b[0m\u001b[1;33m\u001b[0m\u001b[1;33m\u001b[0m\u001b[0m\n\u001b[1;32m--> 460\u001b[1;33m                 \u001b[1;32mraise\u001b[0m \u001b[0me\u001b[0m\u001b[1;33m\u001b[0m\u001b[1;33m\u001b[0m\u001b[0m\n\u001b[0m\u001b[0;32m    461\u001b[0m \u001b[1;33m\u001b[0m\u001b[0m\n\u001b[0;32m    462\u001b[0m     \u001b[1;32mif\u001b[0m \u001b[0mresult\u001b[0m \u001b[1;32mis\u001b[0m \u001b[1;32mNone\u001b[0m\u001b[1;33m:\u001b[0m\u001b[1;33m\u001b[0m\u001b[1;33m\u001b[0m\u001b[0m\n",
      "\u001b[1;32m~\\anaconda3\\lib\\site-packages\\pandas\\core\\tools\\datetimes.py\u001b[0m in \u001b[0;36m_convert_listlike_datetimes\u001b[1;34m(arg, format, name, tz, unit, errors, infer_datetime_format, dayfirst, yearfirst, exact)\u001b[0m\n\u001b[0;32m    421\u001b[0m             \u001b[1;32mif\u001b[0m \u001b[0mresult\u001b[0m \u001b[1;32mis\u001b[0m \u001b[1;32mNone\u001b[0m\u001b[1;33m:\u001b[0m\u001b[1;33m\u001b[0m\u001b[1;33m\u001b[0m\u001b[0m\n\u001b[0;32m    422\u001b[0m                 \u001b[1;32mtry\u001b[0m\u001b[1;33m:\u001b[0m\u001b[1;33m\u001b[0m\u001b[1;33m\u001b[0m\u001b[0m\n\u001b[1;32m--> 423\u001b[1;33m                     result, timezones = array_strptime(\n\u001b[0m\u001b[0;32m    424\u001b[0m                         \u001b[0marg\u001b[0m\u001b[1;33m,\u001b[0m \u001b[0mformat\u001b[0m\u001b[1;33m,\u001b[0m \u001b[0mexact\u001b[0m\u001b[1;33m=\u001b[0m\u001b[0mexact\u001b[0m\u001b[1;33m,\u001b[0m \u001b[0merrors\u001b[0m\u001b[1;33m=\u001b[0m\u001b[0merrors\u001b[0m\u001b[1;33m\u001b[0m\u001b[1;33m\u001b[0m\u001b[0m\n\u001b[0;32m    425\u001b[0m                     )\n",
      "\u001b[1;32mpandas\\_libs\\tslibs\\strptime.pyx\u001b[0m in \u001b[0;36mpandas._libs.tslibs.strptime.array_strptime\u001b[1;34m()\u001b[0m\n",
      "\u001b[1;31mValueError\u001b[0m: time data '2017-03-03T16:56:05Z' does not match format '%Y %d %mT%H:%M:%SZ' (match)"
     ]
    }
   ],
   "source": [
    "df = pd.read_csv(\"amazon.csv\", date_parser=[\"dateAdded\"], infer_datetime_format=True, low_memory= False)\n",
    "pd.to_datetime(df[\"dateAdded\"], format=\"%Y %d %mT%H:%M:%SZ\")\n",
    "#df1['dateAdded'] =pd.to_datetime(df1, format='%Y-%m-%d%T%H:%M:%S%Z')\n",
    "#df['dateAdded'] = datetime.fromisoformat(df['dateAdded'])\n",
    "#df['dateAdded'] = pd.to_datetime(df['dateAdded'], infer_datetime_format=True)\n",
    "#df['dateAdded'] = pd.to_datetime(str(df['dateAdded']).rsplit('Z', 1)[0], format= '%Y-%d-%mT%H:%M:%S')\n",
    "#df = [datetime.strptime(x.replace(\"\",\"\"),'%Y-%d-%mT%H:%M:%S')for x in df['dateAdded'].loc[0].split(\", \")]"
   ]
  },
  {
   "cell_type": "code",
   "execution_count": null,
   "id": "25e65218",
   "metadata": {},
   "outputs": [],
   "source": [
    "df['dateAdded'] = df['dateAdded'] .apply(unidecode.unidecode)  \n",
    "df['dateAdded']  = df['dateAdded'] .apply(lambda x: x.replace(\"-\", \"/\"))    \n",
    "df['dateAdded']  = pd.to_datetime(df['dateAdded'] , format=\"%Y-%m-%d%T%H:%M:%S%Z\")"
   ]
  },
  {
   "cell_type": "code",
   "execution_count": 1,
   "id": "2db2c113",
   "metadata": {
    "scrolled": true
   },
   "outputs": [
    {
     "ename": "NameError",
     "evalue": "name 'df' is not defined",
     "output_type": "error",
     "traceback": [
      "\u001b[1;31m---------------------------------------------------------------------------\u001b[0m",
      "\u001b[1;31mNameError\u001b[0m                                 Traceback (most recent call last)",
      "\u001b[1;32m<ipython-input-1-ea8415b8a3ee>\u001b[0m in \u001b[0;36m<module>\u001b[1;34m\u001b[0m\n\u001b[1;32m----> 1\u001b[1;33m \u001b[0mdf\u001b[0m\u001b[1;33m.\u001b[0m\u001b[0mdescribe\u001b[0m\u001b[1;33m(\u001b[0m\u001b[1;33m)\u001b[0m\u001b[1;33m\u001b[0m\u001b[1;33m\u001b[0m\u001b[0m\n\u001b[0m",
      "\u001b[1;31mNameError\u001b[0m: name 'df' is not defined"
     ]
    }
   ],
   "source": [
    "df.describe()"
   ]
  },
  {
   "cell_type": "code",
   "execution_count": 69,
   "id": "fe343e30",
   "metadata": {},
   "outputs": [
    {
     "name": "stdout",
     "output_type": "stream",
     "text": [
      "<class 'pandas.core.frame.DataFrame'>\n",
      "RangeIndex: 33332 entries, 0 to 33331\n",
      "Data columns (total 27 columns):\n",
      " #   Column               Non-Null Count  Dtype  \n",
      "---  ------               --------------  -----  \n",
      " 0   Unnamed: 0           33332 non-null  int64  \n",
      " 1   id                   33332 non-null  object \n",
      " 2   dateAdded            33332 non-null  object \n",
      " 3   dateUpdated          33332 non-null  object \n",
      " 4   name                 33332 non-null  object \n",
      " 5   asins                33332 non-null  object \n",
      " 6   brand                33332 non-null  object \n",
      " 7   categories           33332 non-null  object \n",
      " 8   primaryCategories    33332 non-null  object \n",
      " 9   imageURLs            33332 non-null  object \n",
      " 10  keys                 33332 non-null  object \n",
      " 11  manufacturer         33332 non-null  object \n",
      " 12  manufacturerNumber   33332 non-null  object \n",
      " 13  reviews.date         33332 non-null  object \n",
      " 14  reviews.dateAdded    1052 non-null   object \n",
      " 15  reviews.dateSeen     33332 non-null  object \n",
      " 16  reviews.doRecommend  21086 non-null  object \n",
      " 17  reviews.id           70 non-null     float64\n",
      " 18  reviews.numHelpful   21115 non-null  float64\n",
      " 19  reviews.rating       33332 non-null  int64  \n",
      " 20  reviews.sourceURLs   33332 non-null  object \n",
      " 21  reviews.text         33332 non-null  object \n",
      " 22  reviews.title        33319 non-null  object \n",
      " 23  reviews.username     33332 non-null  object \n",
      " 24  sourceURLs           33332 non-null  object \n",
      " 25  filename             33332 non-null  object \n",
      " 26  reviews.didPurchase  9 non-null      object \n",
      "dtypes: float64(2), int64(2), object(23)\n",
      "memory usage: 6.9+ MB\n"
     ]
    }
   ],
   "source": [
    "df.info()"
   ]
  },
  {
   "cell_type": "code",
   "execution_count": 31,
   "id": "1a5aafc4",
   "metadata": {
    "scrolled": true
   },
   "outputs": [
    {
     "data": {
      "text/plain": [
       "Unnamed: 0             33332\n",
       "id                     33332\n",
       "dateAdded              33332\n",
       "dateUpdated            33332\n",
       "name                   33332\n",
       "asins                  33332\n",
       "brand                  33332\n",
       "categories             33332\n",
       "primaryCategories      33332\n",
       "imageURLs              33332\n",
       "keys                   33332\n",
       "manufacturer           33332\n",
       "manufacturerNumber     33332\n",
       "reviews.date           33332\n",
       "reviews.dateAdded      33332\n",
       "reviews.dateSeen       33332\n",
       "reviews.doRecommend    33332\n",
       "reviews.id             33332\n",
       "reviews.numHelpful     33332\n",
       "reviews.rating         33332\n",
       "reviews.sourceURLs     33332\n",
       "reviews.text           33332\n",
       "reviews.title          33332\n",
       "reviews.username       33332\n",
       "sourceURLs             33332\n",
       "filename               33332\n",
       "reviews.didPurchase    33332\n",
       "dtype: int64"
      ]
     },
     "execution_count": 31,
     "metadata": {},
     "output_type": "execute_result"
    }
   ],
   "source": [
    "df.isna().count()"
   ]
  },
  {
   "cell_type": "markdown",
   "id": "396a4cc2",
   "metadata": {},
   "source": [
    "sns.heatmap(df.isnull(), yticklabels=False, cbar=False, cmap='viridis')"
   ]
  },
  {
   "cell_type": "code",
   "execution_count": 32,
   "id": "a41dacdb",
   "metadata": {
    "scrolled": true
   },
   "outputs": [
    {
     "data": {
      "text/plain": [
       "<AxesSubplot:>"
      ]
     },
     "execution_count": 32,
     "metadata": {},
     "output_type": "execute_result"
    },
    {
     "data": {
      "image/png": "[encoded data removed]",
      "text/plain": [
       "<Figure size 432x288 with 1 Axes>"
      ]
     },
     "metadata": {
      "needs_background": "light"
     },
     "output_type": "display_data"
    }
   ],
   "source": [
    "sns.heatmap(df.isnull(), yticklabels=False, cbar=False, cmap='viridis')"
   ]
  },
  {
   "cell_type": "code",
   "execution_count": 50,
   "id": "3d94cfd6",
   "metadata": {},
   "outputs": [
    {
     "data": {
      "text/plain": [
       "<AxesSubplot:ylabel='Frequency'>"
      ]
     },
     "execution_count": 50,
     "metadata": {},
     "output_type": "execute_result"
    },
    {
     "data": {
      "image/png": "[encoded data removed]",
      "text/plain": [
       "<Figure size 432x288 with 1 Axes>"
      ]
     },
     "metadata": {
      "needs_background": "light"
     },
     "output_type": "display_data"
    }
   ],
   "source": [
    "df.plot(kind='hist', x='brand', y='reviews.rating')"
   ]
  },
  {
   "cell_type": "code",
   "execution_count": 33,
   "id": "3ffc4f43",
   "metadata": {},
   "outputs": [
    {
     "data": {
      "text/plain": [
       "<AxesSubplot:>"
      ]
     },
     "execution_count": 33,
     "metadata": {},
     "output_type": "execute_result"
    },
    {
     "data": {
      "image/png": "[encoded data removed]",
      "text/plain": [
       "<Figure size 432x288 with 2 Axes>"
      ]
     },
     "metadata": {
      "needs_background": "light"
     },
     "output_type": "display_data"
    }
   ],
   "source": [
    "sns.heatmap(df.corr())"
   ]
  },
  {
   "cell_type": "code",
   "execution_count": 34,
   "id": "7987f5e6",
   "metadata": {},
   "outputs": [
    {
     "data": {
      "text/plain": [
       "<seaborn.axisgrid.PairGrid at 0x275b0f7c7f0>"
      ]
     },
     "execution_count": 34,
     "metadata": {},
     "output_type": "execute_result"
    },
    {
     "data": {
      "image/png": "[encoded data removed]",
      "text/plain": [
       "<Figure size 540x360 with 8 Axes>"
      ]
     },
     "metadata": {
      "needs_background": "light"
     },
     "output_type": "display_data"
    }
   ],
   "source": [
    "\n",
    "sns.pairplot(df,\n",
    "            x_vars = [\"reviews.id\",\"reviews.rating\",\"reviews.numHelpful\"],\n",
    "            y_vars = [\"reviews.id\",\"reviews.rating\"])"
   ]
  },
  {
   "cell_type": "code",
   "execution_count": 35,
   "id": "485d648a",
   "metadata": {},
   "outputs": [],
   "source": [
    "#how many brands are there ?"
   ]
  },
  {
   "cell_type": "code",
   "execution_count": 36,
   "id": "cad498a3",
   "metadata": {},
   "outputs": [
    {
     "name": "stdout",
     "output_type": "stream",
     "text": [
      "3\n"
     ]
    },
    {
     "data": {
      "text/plain": [
       "array(['Amazon', 'Amazonbasics', 'AmazonBasics'], dtype=object)"
      ]
     },
     "execution_count": 36,
     "metadata": {},
     "output_type": "execute_result"
    }
   ],
   "source": [
    "print(df[\"brand\"].nunique())\n",
    "df[\"brand\"].unique()"
   ]
  },
  {
   "cell_type": "code",
   "execution_count": 37,
   "id": "ea3253ac",
   "metadata": {},
   "outputs": [
    {
     "name": "stdout",
     "output_type": "stream",
     "text": [
      "5\n"
     ]
    },
    {
     "data": {
      "text/plain": [
       "array([3, 5, 4, 1, 2], dtype=int64)"
      ]
     },
     "execution_count": 37,
     "metadata": {},
     "output_type": "execute_result"
    }
   ],
   "source": [
    "print(df[\"reviews.rating\"].nunique())\n",
    "df[\"reviews.rating\"].unique()"
   ]
  },
  {
   "cell_type": "code",
   "execution_count": 38,
   "id": "750b479b",
   "metadata": {},
   "outputs": [
    {
     "name": "stdout",
     "output_type": "stream",
     "text": [
      "2\n",
      "['Amazon' 'Amazonbasics']\n",
      "None\n"
     ]
    }
   ],
   "source": [
    "print(df[\"brand\"][df[\"reviews.rating\"] == df[\"reviews.rating\"].min()].nunique())\n",
    "print(print(df[\"brand\"][df[\"reviews.rating\"] == df[\"reviews.rating\"].min()].unique()))"
   ]
  },
  {
   "cell_type": "code",
   "execution_count": 39,
   "id": "11db6ff5",
   "metadata": {},
   "outputs": [
    {
     "name": "stdout",
     "output_type": "stream",
     "text": [
      "2\n",
      "['Amazon' 'Amazonbasics' 'AmazonBasics']\n",
      "None\n"
     ]
    }
   ],
   "source": [
    "print(df[\"brand\"][df[\"reviews.rating\"] == df[\"reviews.rating\"].min()].nunique())\n",
    "print(print(df[\"brand\"][df[\"reviews.rating\"] == df[\"reviews.rating\"].max()].unique()))"
   ]
  },
  {
   "cell_type": "code",
   "execution_count": 40,
   "id": "53c0f4f0",
   "metadata": {},
   "outputs": [
    {
     "data": {
      "text/plain": [
       "13350    Amazon\n",
       "Name: brand, dtype: object"
      ]
     },
     "execution_count": 40,
     "metadata": {},
     "output_type": "execute_result"
    }
   ],
   "source": [
    "df[\"brand\"][df[\"reviews.id\"] == df[\"reviews.id\"].max()]"
   ]
  },
  {
   "cell_type": "code",
   "execution_count": 41,
   "id": "5bc8f593",
   "metadata": {},
   "outputs": [
    {
     "data": {
      "text/plain": [
       "70    Amazon\n",
       "Name: brand, dtype: object"
      ]
     },
     "execution_count": 41,
     "metadata": {},
     "output_type": "execute_result"
    }
   ],
   "source": [
    "df[\"brand\"][df[\"reviews.id\"] == df[\"reviews.id\"].min()]"
   ]
  },
  {
   "cell_type": "code",
   "execution_count": 42,
   "id": "8dfe955c",
   "metadata": {},
   "outputs": [
    {
     "data": {
      "text/plain": [
       "1        Amazon\n",
       "3        Amazon\n",
       "4        Amazon\n",
       "5        Amazon\n",
       "6        Amazon\n",
       "          ...  \n",
       "33325    Amazon\n",
       "33326    Amazon\n",
       "33327    Amazon\n",
       "33329    Amazon\n",
       "33330    Amazon\n",
       "Name: brand, Length: 23375, dtype: object"
      ]
     },
     "execution_count": 42,
     "metadata": {},
     "output_type": "execute_result"
    }
   ],
   "source": [
    "df[\"brand\"][df[\"reviews.rating\"] == df[\"reviews.rating\"].max()]"
   ]
  },
  {
   "cell_type": "code",
   "execution_count": 43,
   "id": "1bb2aa0c",
   "metadata": {},
   "outputs": [],
   "source": [
    "df1 = df.groupby(by = 'brand').count()"
   ]
  },
  {
   "cell_type": "code",
   "execution_count": 44,
   "id": "fc755238",
   "metadata": {},
   "outputs": [
    {
     "data": {
      "text/plain": [
       "<AxesSubplot:xlabel='brand'>"
      ]
     },
     "execution_count": 44,
     "metadata": {},
     "output_type": "execute_result"
    },
    {
     "data": {
      "image/png": "[encoded data removed]",
      "text/plain": [
       "<Figure size 432x288 with 1 Axes>"
      ]
     },
     "metadata": {
      "needs_background": "light"
     },
     "output_type": "display_data"
    }
   ],
   "source": [
    "df1[\"reviews.rating\"].plot(kind='bar')"
   ]
  },
  {
   "cell_type": "code",
   "execution_count": 45,
   "id": "4f270cde",
   "metadata": {},
   "outputs": [
    {
     "data": {
      "text/plain": [
       "<AxesSubplot:xlabel='brand'>"
      ]
     },
     "execution_count": 45,
     "metadata": {},
     "output_type": "execute_result"
    },
    {
     "data": {
      "image/png": "[encoded data removed]",
      "text/plain": [
       "<Figure size 432x288 with 1 Axes>"
      ]
     },
     "metadata": {
      "needs_background": "light"
     },
     "output_type": "display_data"
    }
   ],
   "source": [
    "df1[\"asins\"].plot(kind='bar')"
   ]
  },
  {
   "cell_type": "code",
   "execution_count": 46,
   "id": "17963713",
   "metadata": {},
   "outputs": [
    {
     "data": {
      "text/plain": [
       "<AxesSubplot:xlabel='reviews.rating', ylabel='brand'>"
      ]
     },
     "execution_count": 46,
     "metadata": {},
     "output_type": "execute_result"
    },
    {
     "data": {
      "image/png": "[encoded data removed]",
      "text/plain": [
       "<Figure size 432x288 with 1 Axes>"
      ]
     },
     "metadata": {
      "needs_background": "light"
     },
     "output_type": "display_data"
    }
   ],
   "source": [
    "sns.lineplot(x=df[\"reviews.rating\"], y=df[\"brand\"])"
   ]
  },
  {
   "cell_type": "code",
   "execution_count": 47,
   "id": "5d365b38",
   "metadata": {},
   "outputs": [
    {
     "data": {
      "text/html": [
       "<div>\n",
       "<style scoped>\n",
       "    .dataframe tbody tr th:only-of-type {\n",
       "        vertical-align: middle;\n",
       "    }\n",
       "\n",
       "    .dataframe tbody tr th {\n",
       "        vertical-align: top;\n",
       "    }\n",
       "\n",
       "    .dataframe thead th {\n",
       "        text-align: right;\n",
       "    }\n",
       "</style>\n",
       "<table border=\"1\" class=\"dataframe\">\n",
       "  <thead>\n",
       "    <tr style=\"text-align: right;\">\n",
       "      <th></th>\n",
       "      <th>Unnamed: 0</th>\n",
       "      <th>reviews.id</th>\n",
       "      <th>reviews.numHelpful</th>\n",
       "      <th>reviews.rating</th>\n",
       "    </tr>\n",
       "  </thead>\n",
       "  <tbody>\n",
       "    <tr>\n",
       "      <th>Unnamed: 0</th>\n",
       "      <td>1.000000</td>\n",
       "      <td>0.022270</td>\n",
       "      <td>0.005170</td>\n",
       "      <td>-0.006677</td>\n",
       "    </tr>\n",
       "    <tr>\n",
       "      <th>reviews.id</th>\n",
       "      <td>0.022270</td>\n",
       "      <td>1.000000</td>\n",
       "      <td>-0.545113</td>\n",
       "      <td>0.330520</td>\n",
       "    </tr>\n",
       "    <tr>\n",
       "      <th>reviews.numHelpful</th>\n",
       "      <td>0.005170</td>\n",
       "      <td>-0.545113</td>\n",
       "      <td>1.000000</td>\n",
       "      <td>-0.041512</td>\n",
       "    </tr>\n",
       "    <tr>\n",
       "      <th>reviews.rating</th>\n",
       "      <td>-0.006677</td>\n",
       "      <td>0.330520</td>\n",
       "      <td>-0.041512</td>\n",
       "      <td>1.000000</td>\n",
       "    </tr>\n",
       "  </tbody>\n",
       "</table>\n",
       "</div>"
      ],
      "text/plain": [
       "                    Unnamed: 0  reviews.id  reviews.numHelpful  reviews.rating\n",
       "Unnamed: 0            1.000000    0.022270            0.005170       -0.006677\n",
       "reviews.id            0.022270    1.000000           -0.545113        0.330520\n",
       "reviews.numHelpful    0.005170   -0.545113            1.000000       -0.041512\n",
       "reviews.rating       -0.006677    0.330520           -0.041512        1.000000"
      ]
     },
     "execution_count": 47,
     "metadata": {},
     "output_type": "execute_result"
    }
   ],
   "source": [
    "df.corr()    #ignores non-numeric columns"
   ]
  },
  {
   "cell_type": "code",
   "execution_count": 56,
   "id": "5ab94586",
   "metadata": {},
   "outputs": [
    {
     "name": "stdout",
     "output_type": "stream",
     "text": [
      "Unnamed: 0                                                             0\n",
      "id                                                  AVqVGZNvQMlgsOJE6eUY\n",
      "dateAdded                                           2017-03-03T16:56:05Z\n",
      "dateUpdated                                         2018-10-25T16:36:31Z\n",
      "name                   Amazon Kindle E-Reader 6\" Wifi (8th Generation...\n",
      "asins                                                         B00ZV9PXP2\n",
      "brand                                                             Amazon\n",
      "categories             Computers,Electronics Features,Tablets,Electro...\n",
      "primaryCategories                                            Electronics\n",
      "imageURLs              https://pisces.bbystatic.com/image2/BestBuy_US...\n",
      "keys                   allnewkindleereaderblack6glarefreetouchscreend...\n",
      "manufacturer                                                      Amazon\n",
      "manufacturerNumber                                            B00ZV9PXP2\n",
      "reviews.date                                    2017-09-03T00:00:00.000Z\n",
      "reviews.dateAdded                                                    NaN\n",
      "reviews.dateSeen       2018-05-27T00:00:00Z,2017-09-18T00:00:00Z,2017...\n",
      "reviews.doRecommend                                                False\n",
      "reviews.id                                                           NaN\n",
      "reviews.numHelpful                                                   0.0\n",
      "reviews.rating                                                         3\n",
      "reviews.sourceURLs     http://reviews.bestbuy.com/3545/5442403/review...\n",
      "reviews.text           I thought it would be as big as small paper bu...\n",
      "reviews.title                                                  Too small\n",
      "reviews.username                                                  llyyue\n",
      "sourceURLs             https://www.newegg.com/Product/Product.aspx%25...\n",
      "filename               S:\\Amazon Product Review\\Data Set\\data\\data_fi...\n",
      "reviews.didPurchase                                                  NaN\n",
      "Name: 0, dtype: object\n"
     ]
    }
   ],
   "source": [
    "print(df.loc[0])"
   ]
  },
  {
   "cell_type": "code",
   "execution_count": 72,
   "id": "13a48124",
   "metadata": {},
   "outputs": [
    {
     "name": "stderr",
     "output_type": "stream",
     "text": [
      "IOPub data rate exceeded.\n",
      "The notebook server will temporarily stop sending output\n",
      "to the client in order to avoid crashing it.\n",
      "To change this limit, set the config variable\n",
      "`--NotebookApp.iopub_data_rate_limit`.\n",
      "\n",
      "Current values:\n",
      "NotebookApp.iopub_data_rate_limit=1000000.0 (bytes/sec)\n",
      "NotebookApp.rate_limit_window=3.0 (secs)\n",
      "\n"
     ]
    }
   ],
   "source": [
    "df['dateAdded'] = pd.to_datetime(df['dateAdded'])\n",
    "print(df.to_string())"
   ]
  },
  {
   "cell_type": "code",
   "execution_count": 73,
   "id": "9334be16",
   "metadata": {},
   "outputs": [
    {
     "data": {
      "text/plain": [
       "0       2017-03-03 16:56:05+00:00\n",
       "1       2017-03-03 16:56:05+00:00\n",
       "2       2017-03-03 16:56:05+00:00\n",
       "3       2017-03-03 16:56:05+00:00\n",
       "4       2017-03-03 16:56:05+00:00\n",
       "                   ...           \n",
       "33327   2017-03-06 14:59:43+00:00\n",
       "33328   2017-03-06 14:59:43+00:00\n",
       "33329   2017-03-06 14:59:43+00:00\n",
       "33330   2017-03-06 14:59:43+00:00\n",
       "33331   2017-03-06 14:59:43+00:00\n",
       "Name: dateAdded, Length: 33332, dtype: datetime64[ns, UTC]"
      ]
     },
     "execution_count": 73,
     "metadata": {},
     "output_type": "execute_result"
    }
   ],
   "source": [
    "df['dateAdded']"
   ]
  },
  {
   "cell_type": "code",
   "execution_count": 74,
   "id": "14de78b0",
   "metadata": {},
   "outputs": [
    {
     "name": "stdout",
     "output_type": "stream",
     "text": [
      "<class 'pandas.core.frame.DataFrame'>\n",
      "RangeIndex: 33332 entries, 0 to 33331\n",
      "Data columns (total 27 columns):\n",
      " #   Column               Non-Null Count  Dtype              \n",
      "---  ------               --------------  -----              \n",
      " 0   Unnamed: 0           33332 non-null  int64              \n",
      " 1   id                   33332 non-null  object             \n",
      " 2   dateAdded            33332 non-null  datetime64[ns, UTC]\n",
      " 3   dateUpdated          33332 non-null  object             \n",
      " 4   name                 33332 non-null  object             \n",
      " 5   asins                33332 non-null  object             \n",
      " 6   brand                33332 non-null  object             \n",
      " 7   categories           33332 non-null  object             \n",
      " 8   primaryCategories    33332 non-null  object             \n",
      " 9   imageURLs            33332 non-null  object             \n",
      " 10  keys                 33332 non-null  object             \n",
      " 11  manufacturer         33332 non-null  object             \n",
      " 12  manufacturerNumber   33332 non-null  object             \n",
      " 13  reviews.date         33332 non-null  object             \n",
      " 14  reviews.dateAdded    1052 non-null   object             \n",
      " 15  reviews.dateSeen     33332 non-null  object             \n",
      " 16  reviews.doRecommend  21086 non-null  object             \n",
      " 17  reviews.id           70 non-null     float64            \n",
      " 18  reviews.numHelpful   21115 non-null  float64            \n",
      " 19  reviews.rating       33332 non-null  int64              \n",
      " 20  reviews.sourceURLs   33332 non-null  object             \n",
      " 21  reviews.text         33332 non-null  object             \n",
      " 22  reviews.title        33319 non-null  object             \n",
      " 23  reviews.username     33332 non-null  object             \n",
      " 24  sourceURLs           33332 non-null  object             \n",
      " 25  filename             33332 non-null  object             \n",
      " 26  reviews.didPurchase  9 non-null      object             \n",
      "dtypes: datetime64[ns, UTC](1), float64(2), int64(2), object(22)\n",
      "memory usage: 6.9+ MB\n"
     ]
    }
   ],
   "source": [
    "df.info()"
   ]
  },
  {
   "cell_type": "code",
   "execution_count": 93,
   "id": "5581bcb6",
   "metadata": {},
   "outputs": [],
   "source": [
    "df.rename({\"id\":\"ID\", \"dateAdded\":\"DATE\", \"asins\":\"PRODUCT ID\",\"brand\":\"BRAND\", \"categories\":\"CATAGORY\", \"primaryCategories\":\"PRIMARY CATAGORY\",\n",
    "                    \"reviews.rating\":\"RATING\", \"reviews.sourceURLs\":\"SOURCE\", \"reviews.text\":\"REVIEWS\", \"reviews.title\":\"REVIEWS TITLE\"}, axis = 1, inplace = True)               \n",
    "    "
   ]
  },
  {
   "cell_type": "code",
   "execution_count": 94,
   "id": "db7ac636",
   "metadata": {},
   "outputs": [
    {
     "data": {
      "text/html": [
       "<div>\n",
       "<style scoped>\n",
       "    .dataframe tbody tr th:only-of-type {\n",
       "        vertical-align: middle;\n",
       "    }\n",
       "\n",
       "    .dataframe tbody tr th {\n",
       "        vertical-align: top;\n",
       "    }\n",
       "\n",
       "    .dataframe thead th {\n",
       "        text-align: right;\n",
       "    }\n",
       "</style>\n",
       "<table border=\"1\" class=\"dataframe\">\n",
       "  <thead>\n",
       "    <tr style=\"text-align: right;\">\n",
       "      <th></th>\n",
       "      <th>Unnamed: 0</th>\n",
       "      <th>ID</th>\n",
       "      <th>DATE</th>\n",
       "      <th>dateUpdated</th>\n",
       "      <th>name</th>\n",
       "      <th>PRODUCT ID</th>\n",
       "      <th>BRAND</th>\n",
       "      <th>CATAGORY</th>\n",
       "      <th>PRIMARY CATAGORY</th>\n",
       "      <th>imageURLs</th>\n",
       "      <th>...</th>\n",
       "      <th>reviews.id</th>\n",
       "      <th>reviews.numHelpful</th>\n",
       "      <th>RATING</th>\n",
       "      <th>SOURCE</th>\n",
       "      <th>REVIEWS</th>\n",
       "      <th>REVIEWS TITLE</th>\n",
       "      <th>reviews.username</th>\n",
       "      <th>sourceURLs</th>\n",
       "      <th>filename</th>\n",
       "      <th>reviews.didPurchase</th>\n",
       "    </tr>\n",
       "  </thead>\n",
       "  <tbody>\n",
       "    <tr>\n",
       "      <th>0</th>\n",
       "      <td>0</td>\n",
       "      <td>AVqVGZNvQMlgsOJE6eUY</td>\n",
       "      <td>2017-03-03 16:56:05+00:00</td>\n",
       "      <td>2018-10-25T16:36:31Z</td>\n",
       "      <td>Amazon Kindle E-Reader 6\" Wifi (8th Generation...</td>\n",
       "      <td>B00ZV9PXP2</td>\n",
       "      <td>Amazon</td>\n",
       "      <td>Computers,Electronics Features,Tablets,Electro...</td>\n",
       "      <td>Electronics</td>\n",
       "      <td>https://pisces.bbystatic.com/image2/BestBuy_US...</td>\n",
       "      <td>...</td>\n",
       "      <td>NaN</td>\n",
       "      <td>0.0</td>\n",
       "      <td>3</td>\n",
       "      <td>http://reviews.bestbuy.com/3545/5442403/review...</td>\n",
       "      <td>I thought it would be as big as small paper bu...</td>\n",
       "      <td>Too small</td>\n",
       "      <td>llyyue</td>\n",
       "      <td>https://www.newegg.com/Product/Product.aspx%25...</td>\n",
       "      <td>S:\\Amazon Product Review\\Data Set\\data\\data_fi...</td>\n",
       "      <td>NaN</td>\n",
       "    </tr>\n",
       "    <tr>\n",
       "      <th>1</th>\n",
       "      <td>1</td>\n",
       "      <td>AVqVGZNvQMlgsOJE6eUY</td>\n",
       "      <td>2017-03-03 16:56:05+00:00</td>\n",
       "      <td>2018-10-25T16:36:31Z</td>\n",
       "      <td>Amazon Kindle E-Reader 6\" Wifi (8th Generation...</td>\n",
       "      <td>B00ZV9PXP2</td>\n",
       "      <td>Amazon</td>\n",
       "      <td>Computers,Electronics Features,Tablets,Electro...</td>\n",
       "      <td>Electronics</td>\n",
       "      <td>https://pisces.bbystatic.com/image2/BestBuy_US...</td>\n",
       "      <td>...</td>\n",
       "      <td>NaN</td>\n",
       "      <td>0.0</td>\n",
       "      <td>5</td>\n",
       "      <td>http://reviews.bestbuy.com/3545/5442403/review...</td>\n",
       "      <td>This kindle is light and easy to use especiall...</td>\n",
       "      <td>Great light reader. Easy to use at the beach</td>\n",
       "      <td>Charmi</td>\n",
       "      <td>https://www.newegg.com/Product/Product.aspx%25...</td>\n",
       "      <td>S:\\Amazon Product Review\\Data Set\\data\\data_fi...</td>\n",
       "      <td>NaN</td>\n",
       "    </tr>\n",
       "    <tr>\n",
       "      <th>2</th>\n",
       "      <td>2</td>\n",
       "      <td>AVqVGZNvQMlgsOJE6eUY</td>\n",
       "      <td>2017-03-03 16:56:05+00:00</td>\n",
       "      <td>2018-10-25T16:36:31Z</td>\n",
       "      <td>Amazon Kindle E-Reader 6\" Wifi (8th Generation...</td>\n",
       "      <td>B00ZV9PXP2</td>\n",
       "      <td>Amazon</td>\n",
       "      <td>Computers,Electronics Features,Tablets,Electro...</td>\n",
       "      <td>Electronics</td>\n",
       "      <td>https://pisces.bbystatic.com/image2/BestBuy_US...</td>\n",
       "      <td>...</td>\n",
       "      <td>NaN</td>\n",
       "      <td>0.0</td>\n",
       "      <td>4</td>\n",
       "      <td>https://reviews.bestbuy.com/3545/5442403/revie...</td>\n",
       "      <td>Didnt know how much i'd use a kindle so went f...</td>\n",
       "      <td>Great for the price</td>\n",
       "      <td>johnnyjojojo</td>\n",
       "      <td>https://www.newegg.com/Product/Product.aspx%25...</td>\n",
       "      <td>S:\\Amazon Product Review\\Data Set\\data\\data_fi...</td>\n",
       "      <td>NaN</td>\n",
       "    </tr>\n",
       "    <tr>\n",
       "      <th>3</th>\n",
       "      <td>3</td>\n",
       "      <td>AVqVGZNvQMlgsOJE6eUY</td>\n",
       "      <td>2017-03-03 16:56:05+00:00</td>\n",
       "      <td>2018-10-25T16:36:31Z</td>\n",
       "      <td>Amazon Kindle E-Reader 6\" Wifi (8th Generation...</td>\n",
       "      <td>B00ZV9PXP2</td>\n",
       "      <td>Amazon</td>\n",
       "      <td>Computers,Electronics Features,Tablets,Electro...</td>\n",
       "      <td>Electronics</td>\n",
       "      <td>https://pisces.bbystatic.com/image2/BestBuy_US...</td>\n",
       "      <td>...</td>\n",
       "      <td>177283626.0</td>\n",
       "      <td>3.0</td>\n",
       "      <td>5</td>\n",
       "      <td>https://redsky.target.com/groot-domain-api/v1/...</td>\n",
       "      <td>I am 100 happy with my purchase. I caught it o...</td>\n",
       "      <td>A Great Buy</td>\n",
       "      <td>Kdperry</td>\n",
       "      <td>https://www.newegg.com/Product/Product.aspx%25...</td>\n",
       "      <td>S:\\Amazon Product Review\\Data Set\\data\\data_fi...</td>\n",
       "      <td>NaN</td>\n",
       "    </tr>\n",
       "    <tr>\n",
       "      <th>4</th>\n",
       "      <td>4</td>\n",
       "      <td>AVqVGZNvQMlgsOJE6eUY</td>\n",
       "      <td>2017-03-03 16:56:05+00:00</td>\n",
       "      <td>2018-10-25T16:36:31Z</td>\n",
       "      <td>Amazon Kindle E-Reader 6\" Wifi (8th Generation...</td>\n",
       "      <td>B00ZV9PXP2</td>\n",
       "      <td>Amazon</td>\n",
       "      <td>Computers,Electronics Features,Tablets,Electro...</td>\n",
       "      <td>Electronics</td>\n",
       "      <td>https://pisces.bbystatic.com/image2/BestBuy_US...</td>\n",
       "      <td>...</td>\n",
       "      <td>NaN</td>\n",
       "      <td>0.0</td>\n",
       "      <td>5</td>\n",
       "      <td>https://reviews.bestbuy.com/3545/5442403/revie...</td>\n",
       "      <td>Solid entry level Kindle. Great for kids. Gift...</td>\n",
       "      <td>Solid entry-level Kindle. Great for kids</td>\n",
       "      <td>Johnnyblack</td>\n",
       "      <td>https://www.newegg.com/Product/Product.aspx%25...</td>\n",
       "      <td>S:\\Amazon Product Review\\Data Set\\data\\data_fi...</td>\n",
       "      <td>NaN</td>\n",
       "    </tr>\n",
       "  </tbody>\n",
       "</table>\n",
       "<p>5 rows × 27 columns</p>\n",
       "</div>"
      ],
      "text/plain": [
       "   Unnamed: 0                    ID                      DATE  \\\n",
       "0           0  AVqVGZNvQMlgsOJE6eUY 2017-03-03 16:56:05+00:00   \n",
       "1           1  AVqVGZNvQMlgsOJE6eUY 2017-03-03 16:56:05+00:00   \n",
       "2           2  AVqVGZNvQMlgsOJE6eUY 2017-03-03 16:56:05+00:00   \n",
       "3           3  AVqVGZNvQMlgsOJE6eUY 2017-03-03 16:56:05+00:00   \n",
       "4           4  AVqVGZNvQMlgsOJE6eUY 2017-03-03 16:56:05+00:00   \n",
       "\n",
       "            dateUpdated                                               name  \\\n",
       "0  2018-10-25T16:36:31Z  Amazon Kindle E-Reader 6\" Wifi (8th Generation...   \n",
       "1  2018-10-25T16:36:31Z  Amazon Kindle E-Reader 6\" Wifi (8th Generation...   \n",
       "2  2018-10-25T16:36:31Z  Amazon Kindle E-Reader 6\" Wifi (8th Generation...   \n",
       "3  2018-10-25T16:36:31Z  Amazon Kindle E-Reader 6\" Wifi (8th Generation...   \n",
       "4  2018-10-25T16:36:31Z  Amazon Kindle E-Reader 6\" Wifi (8th Generation...   \n",
       "\n",
       "   PRODUCT ID   BRAND                                           CATAGORY  \\\n",
       "0  B00ZV9PXP2  Amazon  Computers,Electronics Features,Tablets,Electro...   \n",
       "1  B00ZV9PXP2  Amazon  Computers,Electronics Features,Tablets,Electro...   \n",
       "2  B00ZV9PXP2  Amazon  Computers,Electronics Features,Tablets,Electro...   \n",
       "3  B00ZV9PXP2  Amazon  Computers,Electronics Features,Tablets,Electro...   \n",
       "4  B00ZV9PXP2  Amazon  Computers,Electronics Features,Tablets,Electro...   \n",
       "\n",
       "  PRIMARY CATAGORY                                          imageURLs  ...  \\\n",
       "0      Electronics  https://pisces.bbystatic.com/image2/BestBuy_US...  ...   \n",
       "1      Electronics  https://pisces.bbystatic.com/image2/BestBuy_US...  ...   \n",
       "2      Electronics  https://pisces.bbystatic.com/image2/BestBuy_US...  ...   \n",
       "3      Electronics  https://pisces.bbystatic.com/image2/BestBuy_US...  ...   \n",
       "4      Electronics  https://pisces.bbystatic.com/image2/BestBuy_US...  ...   \n",
       "\n",
       "    reviews.id reviews.numHelpful RATING  \\\n",
       "0          NaN                0.0      3   \n",
       "1          NaN                0.0      5   \n",
       "2          NaN                0.0      4   \n",
       "3  177283626.0                3.0      5   \n",
       "4          NaN                0.0      5   \n",
       "\n",
       "                                              SOURCE  \\\n",
       "0  http://reviews.bestbuy.com/3545/5442403/review...   \n",
       "1  http://reviews.bestbuy.com/3545/5442403/review...   \n",
       "2  https://reviews.bestbuy.com/3545/5442403/revie...   \n",
       "3  https://redsky.target.com/groot-domain-api/v1/...   \n",
       "4  https://reviews.bestbuy.com/3545/5442403/revie...   \n",
       "\n",
       "                                             REVIEWS  \\\n",
       "0  I thought it would be as big as small paper bu...   \n",
       "1  This kindle is light and easy to use especiall...   \n",
       "2  Didnt know how much i'd use a kindle so went f...   \n",
       "3  I am 100 happy with my purchase. I caught it o...   \n",
       "4  Solid entry level Kindle. Great for kids. Gift...   \n",
       "\n",
       "                                  REVIEWS TITLE reviews.username  \\\n",
       "0                                     Too small           llyyue   \n",
       "1  Great light reader. Easy to use at the beach           Charmi   \n",
       "2                           Great for the price     johnnyjojojo   \n",
       "3                                   A Great Buy          Kdperry   \n",
       "4      Solid entry-level Kindle. Great for kids      Johnnyblack   \n",
       "\n",
       "                                          sourceURLs  \\\n",
       "0  https://www.newegg.com/Product/Product.aspx%25...   \n",
       "1  https://www.newegg.com/Product/Product.aspx%25...   \n",
       "2  https://www.newegg.com/Product/Product.aspx%25...   \n",
       "3  https://www.newegg.com/Product/Product.aspx%25...   \n",
       "4  https://www.newegg.com/Product/Product.aspx%25...   \n",
       "\n",
       "                                            filename  reviews.didPurchase  \n",
       "0  S:\\Amazon Product Review\\Data Set\\data\\data_fi...                  NaN  \n",
       "1  S:\\Amazon Product Review\\Data Set\\data\\data_fi...                  NaN  \n",
       "2  S:\\Amazon Product Review\\Data Set\\data\\data_fi...                  NaN  \n",
       "3  S:\\Amazon Product Review\\Data Set\\data\\data_fi...                  NaN  \n",
       "4  S:\\Amazon Product Review\\Data Set\\data\\data_fi...                  NaN  \n",
       "\n",
       "[5 rows x 27 columns]"
      ]
     },
     "execution_count": 94,
     "metadata": {},
     "output_type": "execute_result"
    }
   ],
   "source": [
    "df.head()"
   ]
  },
  {
   "cell_type": "code",
   "execution_count": null,
   "id": "3dc3c371",
   "metadata": {},
   "outputs": [],
   "source": []
  },
  {
   "cell_type": "code",
   "execution_count": 105,
   "id": "d5e64add",
   "metadata": {},
   "outputs": [],
   "source": [
    "df.drop(['name','imageURLs','keys','manufacturer','manufacturerNumber','reviews.date','reviews.dateAdded','reviews.dateSeen','reviews.doRecommend','reviews.id','reviews.numHelpful', 'reviews.username', 'sourceURLs', 'filename', 'reviews.didPurchase'], axis = 1, inplace=True)"
   ]
  },
  {
   "cell_type": "code",
   "execution_count": 106,
   "id": "87ae589e",
   "metadata": {},
   "outputs": [
    {
     "data": {
      "text/html": [
       "<div>\n",
       "<style scoped>\n",
       "    .dataframe tbody tr th:only-of-type {\n",
       "        vertical-align: middle;\n",
       "    }\n",
       "\n",
       "    .dataframe tbody tr th {\n",
       "        vertical-align: top;\n",
       "    }\n",
       "\n",
       "    .dataframe thead th {\n",
       "        text-align: right;\n",
       "    }\n",
       "</style>\n",
       "<table border=\"1\" class=\"dataframe\">\n",
       "  <thead>\n",
       "    <tr style=\"text-align: right;\">\n",
       "      <th></th>\n",
       "      <th>ID</th>\n",
       "      <th>DATE</th>\n",
       "      <th>dateUpdated</th>\n",
       "      <th>PRODUCT ID</th>\n",
       "      <th>BRAND</th>\n",
       "      <th>CATAGORY</th>\n",
       "      <th>PRIMARY CATAGORY</th>\n",
       "      <th>RATING</th>\n",
       "      <th>SOURCE</th>\n",
       "      <th>REVIEWS</th>\n",
       "      <th>REVIEWS TITLE</th>\n",
       "    </tr>\n",
       "  </thead>\n",
       "  <tbody>\n",
       "    <tr>\n",
       "      <th>0</th>\n",
       "      <td>AVqVGZNvQMlgsOJE6eUY</td>\n",
       "      <td>2017-03-03 16:56:05+00:00</td>\n",
       "      <td>2018-10-25T16:36:31Z</td>\n",
       "      <td>B00ZV9PXP2</td>\n",
       "      <td>Amazon</td>\n",
       "      <td>Computers,Electronics Features,Tablets,Electro...</td>\n",
       "      <td>Electronics</td>\n",
       "      <td>3</td>\n",
       "      <td>http://reviews.bestbuy.com/3545/5442403/review...</td>\n",
       "      <td>I thought it would be as big as small paper bu...</td>\n",
       "      <td>Too small</td>\n",
       "    </tr>\n",
       "    <tr>\n",
       "      <th>1</th>\n",
       "      <td>AVqVGZNvQMlgsOJE6eUY</td>\n",
       "      <td>2017-03-03 16:56:05+00:00</td>\n",
       "      <td>2018-10-25T16:36:31Z</td>\n",
       "      <td>B00ZV9PXP2</td>\n",
       "      <td>Amazon</td>\n",
       "      <td>Computers,Electronics Features,Tablets,Electro...</td>\n",
       "      <td>Electronics</td>\n",
       "      <td>5</td>\n",
       "      <td>http://reviews.bestbuy.com/3545/5442403/review...</td>\n",
       "      <td>This kindle is light and easy to use especiall...</td>\n",
       "      <td>Great light reader. Easy to use at the beach</td>\n",
       "    </tr>\n",
       "    <tr>\n",
       "      <th>2</th>\n",
       "      <td>AVqVGZNvQMlgsOJE6eUY</td>\n",
       "      <td>2017-03-03 16:56:05+00:00</td>\n",
       "      <td>2018-10-25T16:36:31Z</td>\n",
       "      <td>B00ZV9PXP2</td>\n",
       "      <td>Amazon</td>\n",
       "      <td>Computers,Electronics Features,Tablets,Electro...</td>\n",
       "      <td>Electronics</td>\n",
       "      <td>4</td>\n",
       "      <td>https://reviews.bestbuy.com/3545/5442403/revie...</td>\n",
       "      <td>Didnt know how much i'd use a kindle so went f...</td>\n",
       "      <td>Great for the price</td>\n",
       "    </tr>\n",
       "    <tr>\n",
       "      <th>3</th>\n",
       "      <td>AVqVGZNvQMlgsOJE6eUY</td>\n",
       "      <td>2017-03-03 16:56:05+00:00</td>\n",
       "      <td>2018-10-25T16:36:31Z</td>\n",
       "      <td>B00ZV9PXP2</td>\n",
       "      <td>Amazon</td>\n",
       "      <td>Computers,Electronics Features,Tablets,Electro...</td>\n",
       "      <td>Electronics</td>\n",
       "      <td>5</td>\n",
       "      <td>https://redsky.target.com/groot-domain-api/v1/...</td>\n",
       "      <td>I am 100 happy with my purchase. I caught it o...</td>\n",
       "      <td>A Great Buy</td>\n",
       "    </tr>\n",
       "    <tr>\n",
       "      <th>4</th>\n",
       "      <td>AVqVGZNvQMlgsOJE6eUY</td>\n",
       "      <td>2017-03-03 16:56:05+00:00</td>\n",
       "      <td>2018-10-25T16:36:31Z</td>\n",
       "      <td>B00ZV9PXP2</td>\n",
       "      <td>Amazon</td>\n",
       "      <td>Computers,Electronics Features,Tablets,Electro...</td>\n",
       "      <td>Electronics</td>\n",
       "      <td>5</td>\n",
       "      <td>https://reviews.bestbuy.com/3545/5442403/revie...</td>\n",
       "      <td>Solid entry level Kindle. Great for kids. Gift...</td>\n",
       "      <td>Solid entry-level Kindle. Great for kids</td>\n",
       "    </tr>\n",
       "  </tbody>\n",
       "</table>\n",
       "</div>"
      ],
      "text/plain": [
       "                     ID                      DATE           dateUpdated  \\\n",
       "0  AVqVGZNvQMlgsOJE6eUY 2017-03-03 16:56:05+00:00  2018-10-25T16:36:31Z   \n",
       "1  AVqVGZNvQMlgsOJE6eUY 2017-03-03 16:56:05+00:00  2018-10-25T16:36:31Z   \n",
       "2  AVqVGZNvQMlgsOJE6eUY 2017-03-03 16:56:05+00:00  2018-10-25T16:36:31Z   \n",
       "3  AVqVGZNvQMlgsOJE6eUY 2017-03-03 16:56:05+00:00  2018-10-25T16:36:31Z   \n",
       "4  AVqVGZNvQMlgsOJE6eUY 2017-03-03 16:56:05+00:00  2018-10-25T16:36:31Z   \n",
       "\n",
       "   PRODUCT ID   BRAND                                           CATAGORY  \\\n",
       "0  B00ZV9PXP2  Amazon  Computers,Electronics Features,Tablets,Electro...   \n",
       "1  B00ZV9PXP2  Amazon  Computers,Electronics Features,Tablets,Electro...   \n",
       "2  B00ZV9PXP2  Amazon  Computers,Electronics Features,Tablets,Electro...   \n",
       "3  B00ZV9PXP2  Amazon  Computers,Electronics Features,Tablets,Electro...   \n",
       "4  B00ZV9PXP2  Amazon  Computers,Electronics Features,Tablets,Electro...   \n",
       "\n",
       "  PRIMARY CATAGORY  RATING                                             SOURCE  \\\n",
       "0      Electronics       3  http://reviews.bestbuy.com/3545/5442403/review...   \n",
       "1      Electronics       5  http://reviews.bestbuy.com/3545/5442403/review...   \n",
       "2      Electronics       4  https://reviews.bestbuy.com/3545/5442403/revie...   \n",
       "3      Electronics       5  https://redsky.target.com/groot-domain-api/v1/...   \n",
       "4      Electronics       5  https://reviews.bestbuy.com/3545/5442403/revie...   \n",
       "\n",
       "                                             REVIEWS  \\\n",
       "0  I thought it would be as big as small paper bu...   \n",
       "1  This kindle is light and easy to use especiall...   \n",
       "2  Didnt know how much i'd use a kindle so went f...   \n",
       "3  I am 100 happy with my purchase. I caught it o...   \n",
       "4  Solid entry level Kindle. Great for kids. Gift...   \n",
       "\n",
       "                                  REVIEWS TITLE  \n",
       "0                                     Too small  \n",
       "1  Great light reader. Easy to use at the beach  \n",
       "2                           Great for the price  \n",
       "3                                   A Great Buy  \n",
       "4      Solid entry-level Kindle. Great for kids  "
      ]
     },
     "execution_count": 106,
     "metadata": {},
     "output_type": "execute_result"
    }
   ],
   "source": [
    "df.head()"
   ]
  },
  {
   "cell_type": "code",
   "execution_count": 108,
   "id": "8c1e2171",
   "metadata": {},
   "outputs": [
    {
     "data": {
      "text/html": [
       "<div>\n",
       "<style scoped>\n",
       "    .dataframe tbody tr th:only-of-type {\n",
       "        vertical-align: middle;\n",
       "    }\n",
       "\n",
       "    .dataframe tbody tr th {\n",
       "        vertical-align: top;\n",
       "    }\n",
       "\n",
       "    .dataframe thead th {\n",
       "        text-align: right;\n",
       "    }\n",
       "</style>\n",
       "<table border=\"1\" class=\"dataframe\">\n",
       "  <thead>\n",
       "    <tr style=\"text-align: right;\">\n",
       "      <th></th>\n",
       "      <th>ID</th>\n",
       "      <th>DATE</th>\n",
       "      <th>dateUpdated</th>\n",
       "      <th>PRODUCT ID</th>\n",
       "      <th>BRAND</th>\n",
       "      <th>CATAGORY</th>\n",
       "      <th>PRIMARY CATAGORY</th>\n",
       "      <th>RATING</th>\n",
       "      <th>SOURCE</th>\n",
       "      <th>REVIEWS</th>\n",
       "      <th>REVIEWS TITLE</th>\n",
       "    </tr>\n",
       "  </thead>\n",
       "  <tbody>\n",
       "    <tr>\n",
       "      <th>0</th>\n",
       "      <td>AVqVGZNvQMlgsOJE6eUY</td>\n",
       "      <td>2017-03-03 16:56:05+00:00</td>\n",
       "      <td>2018-10-25T16:36:31Z</td>\n",
       "      <td>B00ZV9PXP2</td>\n",
       "      <td>Amazon</td>\n",
       "      <td>Computers,Electronics Features,Tablets,Electro...</td>\n",
       "      <td>Electronics</td>\n",
       "      <td>3</td>\n",
       "      <td>http://reviews.bestbuy.com/3545/5442403/review...</td>\n",
       "      <td>I thought it would be as big as small paper bu...</td>\n",
       "      <td>Too small</td>\n",
       "    </tr>\n",
       "    <tr>\n",
       "      <th>1</th>\n",
       "      <td>AVqVGZNvQMlgsOJE6eUY</td>\n",
       "      <td>2017-03-03 16:56:05+00:00</td>\n",
       "      <td>2018-10-25T16:36:31Z</td>\n",
       "      <td>B00ZV9PXP2</td>\n",
       "      <td>Amazon</td>\n",
       "      <td>Computers,Electronics Features,Tablets,Electro...</td>\n",
       "      <td>Electronics</td>\n",
       "      <td>5</td>\n",
       "      <td>http://reviews.bestbuy.com/3545/5442403/review...</td>\n",
       "      <td>This kindle is light and easy to use especiall...</td>\n",
       "      <td>Great light reader. Easy to use at the beach</td>\n",
       "    </tr>\n",
       "    <tr>\n",
       "      <th>2</th>\n",
       "      <td>AVqVGZNvQMlgsOJE6eUY</td>\n",
       "      <td>2017-03-03 16:56:05+00:00</td>\n",
       "      <td>2018-10-25T16:36:31Z</td>\n",
       "      <td>B00ZV9PXP2</td>\n",
       "      <td>Amazon</td>\n",
       "      <td>Computers,Electronics Features,Tablets,Electro...</td>\n",
       "      <td>Electronics</td>\n",
       "      <td>4</td>\n",
       "      <td>https://reviews.bestbuy.com/3545/5442403/revie...</td>\n",
       "      <td>Didnt know how much i'd use a kindle so went f...</td>\n",
       "      <td>Great for the price</td>\n",
       "    </tr>\n",
       "    <tr>\n",
       "      <th>3</th>\n",
       "      <td>AVqVGZNvQMlgsOJE6eUY</td>\n",
       "      <td>2017-03-03 16:56:05+00:00</td>\n",
       "      <td>2018-10-25T16:36:31Z</td>\n",
       "      <td>B00ZV9PXP2</td>\n",
       "      <td>Amazon</td>\n",
       "      <td>Computers,Electronics Features,Tablets,Electro...</td>\n",
       "      <td>Electronics</td>\n",
       "      <td>5</td>\n",
       "      <td>https://redsky.target.com/groot-domain-api/v1/...</td>\n",
       "      <td>I am 100 happy with my purchase. I caught it o...</td>\n",
       "      <td>A Great Buy</td>\n",
       "    </tr>\n",
       "    <tr>\n",
       "      <th>4</th>\n",
       "      <td>AVqVGZNvQMlgsOJE6eUY</td>\n",
       "      <td>2017-03-03 16:56:05+00:00</td>\n",
       "      <td>2018-10-25T16:36:31Z</td>\n",
       "      <td>B00ZV9PXP2</td>\n",
       "      <td>Amazon</td>\n",
       "      <td>Computers,Electronics Features,Tablets,Electro...</td>\n",
       "      <td>Electronics</td>\n",
       "      <td>5</td>\n",
       "      <td>https://reviews.bestbuy.com/3545/5442403/revie...</td>\n",
       "      <td>Solid entry level Kindle. Great for kids. Gift...</td>\n",
       "      <td>Solid entry-level Kindle. Great for kids</td>\n",
       "    </tr>\n",
       "    <tr>\n",
       "      <th>...</th>\n",
       "      <td>...</td>\n",
       "      <td>...</td>\n",
       "      <td>...</td>\n",
       "      <td>...</td>\n",
       "      <td>...</td>\n",
       "      <td>...</td>\n",
       "      <td>...</td>\n",
       "      <td>...</td>\n",
       "      <td>...</td>\n",
       "      <td>...</td>\n",
       "      <td>...</td>\n",
       "    </tr>\n",
       "    <tr>\n",
       "      <th>33327</th>\n",
       "      <td>AVqkIhxunnc1JgDc3kg_</td>\n",
       "      <td>2017-03-06 14:59:43+00:00</td>\n",
       "      <td>2019-02-23T02:49:38Z</td>\n",
       "      <td>B018T075DC</td>\n",
       "      <td>Amazon</td>\n",
       "      <td>Fire Tablets,Tablets,All Tablets,Amazon Tablet...</td>\n",
       "      <td>Electronics</td>\n",
       "      <td>5</td>\n",
       "      <td>http://reviews.bestbuy.com/3545/5620410/review...</td>\n",
       "      <td>I got 2 of these for my 8 yr old twins. My 11 ...</td>\n",
       "      <td>Xmas gift</td>\n",
       "    </tr>\n",
       "    <tr>\n",
       "      <th>33328</th>\n",
       "      <td>AVqkIhxunnc1JgDc3kg_</td>\n",
       "      <td>2017-03-06 14:59:43+00:00</td>\n",
       "      <td>2019-02-23T02:49:38Z</td>\n",
       "      <td>B018T075DC</td>\n",
       "      <td>Amazon</td>\n",
       "      <td>Fire Tablets,Tablets,All Tablets,Amazon Tablet...</td>\n",
       "      <td>Electronics</td>\n",
       "      <td>4</td>\n",
       "      <td>http://reviews.bestbuy.com/3545/5620410/review...</td>\n",
       "      <td>I bought this for my niece for a Christmas gif...</td>\n",
       "      <td>yes it is a great tablet.</td>\n",
       "    </tr>\n",
       "    <tr>\n",
       "      <th>33329</th>\n",
       "      <td>AVqkIhxunnc1JgDc3kg_</td>\n",
       "      <td>2017-03-06 14:59:43+00:00</td>\n",
       "      <td>2019-02-23T02:49:38Z</td>\n",
       "      <td>B018T075DC</td>\n",
       "      <td>Amazon</td>\n",
       "      <td>Fire Tablets,Tablets,All Tablets,Amazon Tablet...</td>\n",
       "      <td>Electronics</td>\n",
       "      <td>5</td>\n",
       "      <td>http://reviews.bestbuy.com/3545/5620410/review...</td>\n",
       "      <td>Very nice for light internet browsing, keeping...</td>\n",
       "      <td>You get a lot for the price!</td>\n",
       "    </tr>\n",
       "    <tr>\n",
       "      <th>33330</th>\n",
       "      <td>AVqkIhxunnc1JgDc3kg_</td>\n",
       "      <td>2017-03-06 14:59:43+00:00</td>\n",
       "      <td>2019-02-23T02:49:38Z</td>\n",
       "      <td>B018T075DC</td>\n",
       "      <td>Amazon</td>\n",
       "      <td>Fire Tablets,Tablets,All Tablets,Amazon Tablet...</td>\n",
       "      <td>Electronics</td>\n",
       "      <td>5</td>\n",
       "      <td>http://reviews.bestbuy.com/3545/5620410/review...</td>\n",
       "      <td>This Tablet does absolutely everything I want!...</td>\n",
       "      <td>You get the entire World for less than $100!</td>\n",
       "    </tr>\n",
       "    <tr>\n",
       "      <th>33331</th>\n",
       "      <td>AVqkIhxunnc1JgDc3kg_</td>\n",
       "      <td>2017-03-06 14:59:43+00:00</td>\n",
       "      <td>2019-02-23T02:49:38Z</td>\n",
       "      <td>B018T075DC</td>\n",
       "      <td>Amazon</td>\n",
       "      <td>Fire Tablets,Tablets,All Tablets,Amazon Tablet...</td>\n",
       "      <td>Electronics</td>\n",
       "      <td>4</td>\n",
       "      <td>http://reviews.bestbuy.com/3545/5620410/review...</td>\n",
       "      <td>At ninety dollars, the expectionations are low...</td>\n",
       "      <td>You get what your paying for</td>\n",
       "    </tr>\n",
       "  </tbody>\n",
       "</table>\n",
       "<p>33332 rows × 11 columns</p>\n",
       "</div>"
      ],
      "text/plain": [
       "                         ID                      DATE           dateUpdated  \\\n",
       "0      AVqVGZNvQMlgsOJE6eUY 2017-03-03 16:56:05+00:00  2018-10-25T16:36:31Z   \n",
       "1      AVqVGZNvQMlgsOJE6eUY 2017-03-03 16:56:05+00:00  2018-10-25T16:36:31Z   \n",
       "2      AVqVGZNvQMlgsOJE6eUY 2017-03-03 16:56:05+00:00  2018-10-25T16:36:31Z   \n",
       "3      AVqVGZNvQMlgsOJE6eUY 2017-03-03 16:56:05+00:00  2018-10-25T16:36:31Z   \n",
       "4      AVqVGZNvQMlgsOJE6eUY 2017-03-03 16:56:05+00:00  2018-10-25T16:36:31Z   \n",
       "...                     ...                       ...                   ...   \n",
       "33327  AVqkIhxunnc1JgDc3kg_ 2017-03-06 14:59:43+00:00  2019-02-23T02:49:38Z   \n",
       "33328  AVqkIhxunnc1JgDc3kg_ 2017-03-06 14:59:43+00:00  2019-02-23T02:49:38Z   \n",
       "33329  AVqkIhxunnc1JgDc3kg_ 2017-03-06 14:59:43+00:00  2019-02-23T02:49:38Z   \n",
       "33330  AVqkIhxunnc1JgDc3kg_ 2017-03-06 14:59:43+00:00  2019-02-23T02:49:38Z   \n",
       "33331  AVqkIhxunnc1JgDc3kg_ 2017-03-06 14:59:43+00:00  2019-02-23T02:49:38Z   \n",
       "\n",
       "       PRODUCT ID   BRAND                                           CATAGORY  \\\n",
       "0      B00ZV9PXP2  Amazon  Computers,Electronics Features,Tablets,Electro...   \n",
       "1      B00ZV9PXP2  Amazon  Computers,Electronics Features,Tablets,Electro...   \n",
       "2      B00ZV9PXP2  Amazon  Computers,Electronics Features,Tablets,Electro...   \n",
       "3      B00ZV9PXP2  Amazon  Computers,Electronics Features,Tablets,Electro...   \n",
       "4      B00ZV9PXP2  Amazon  Computers,Electronics Features,Tablets,Electro...   \n",
       "...           ...     ...                                                ...   \n",
       "33327  B018T075DC  Amazon  Fire Tablets,Tablets,All Tablets,Amazon Tablet...   \n",
       "33328  B018T075DC  Amazon  Fire Tablets,Tablets,All Tablets,Amazon Tablet...   \n",
       "33329  B018T075DC  Amazon  Fire Tablets,Tablets,All Tablets,Amazon Tablet...   \n",
       "33330  B018T075DC  Amazon  Fire Tablets,Tablets,All Tablets,Amazon Tablet...   \n",
       "33331  B018T075DC  Amazon  Fire Tablets,Tablets,All Tablets,Amazon Tablet...   \n",
       "\n",
       "      PRIMARY CATAGORY  RATING  \\\n",
       "0          Electronics       3   \n",
       "1          Electronics       5   \n",
       "2          Electronics       4   \n",
       "3          Electronics       5   \n",
       "4          Electronics       5   \n",
       "...                ...     ...   \n",
       "33327      Electronics       5   \n",
       "33328      Electronics       4   \n",
       "33329      Electronics       5   \n",
       "33330      Electronics       5   \n",
       "33331      Electronics       4   \n",
       "\n",
       "                                                  SOURCE  \\\n",
       "0      http://reviews.bestbuy.com/3545/5442403/review...   \n",
       "1      http://reviews.bestbuy.com/3545/5442403/review...   \n",
       "2      https://reviews.bestbuy.com/3545/5442403/revie...   \n",
       "3      https://redsky.target.com/groot-domain-api/v1/...   \n",
       "4      https://reviews.bestbuy.com/3545/5442403/revie...   \n",
       "...                                                  ...   \n",
       "33327  http://reviews.bestbuy.com/3545/5620410/review...   \n",
       "33328  http://reviews.bestbuy.com/3545/5620410/review...   \n",
       "33329  http://reviews.bestbuy.com/3545/5620410/review...   \n",
       "33330  http://reviews.bestbuy.com/3545/5620410/review...   \n",
       "33331  http://reviews.bestbuy.com/3545/5620410/review...   \n",
       "\n",
       "                                                 REVIEWS  \\\n",
       "0      I thought it would be as big as small paper bu...   \n",
       "1      This kindle is light and easy to use especiall...   \n",
       "2      Didnt know how much i'd use a kindle so went f...   \n",
       "3      I am 100 happy with my purchase. I caught it o...   \n",
       "4      Solid entry level Kindle. Great for kids. Gift...   \n",
       "...                                                  ...   \n",
       "33327  I got 2 of these for my 8 yr old twins. My 11 ...   \n",
       "33328  I bought this for my niece for a Christmas gif...   \n",
       "33329  Very nice for light internet browsing, keeping...   \n",
       "33330  This Tablet does absolutely everything I want!...   \n",
       "33331  At ninety dollars, the expectionations are low...   \n",
       "\n",
       "                                      REVIEWS TITLE  \n",
       "0                                         Too small  \n",
       "1      Great light reader. Easy to use at the beach  \n",
       "2                               Great for the price  \n",
       "3                                       A Great Buy  \n",
       "4          Solid entry-level Kindle. Great for kids  \n",
       "...                                             ...  \n",
       "33327                                     Xmas gift  \n",
       "33328                     yes it is a great tablet.  \n",
       "33329                  You get a lot for the price!  \n",
       "33330  You get the entire World for less than $100!  \n",
       "33331                  You get what your paying for  \n",
       "\n",
       "[33332 rows x 11 columns]"
      ]
     },
     "execution_count": 108,
     "metadata": {},
     "output_type": "execute_result"
    }
   ],
   "source": [
    "df"
   ]
  },
  {
   "cell_type": "code",
   "execution_count": 123,
   "id": "fabb3d9b",
   "metadata": {},
   "outputs": [],
   "source": [
    "df.to_csv('Amazon_dataset.csv', index = False)"
   ]
  },
  {
   "cell_type": "code",
   "execution_count": 126,
   "id": "ebed4c0b",
   "metadata": {},
   "outputs": [
    {
     "data": {
      "text/plain": [
       "'C:\\\\Users\\\\suhas'"
      ]
     },
     "execution_count": 126,
     "metadata": {},
     "output_type": "execute_result"
    }
   ],
   "source": [
    "os.getcwd()\n"
   ]
  },
  {
   "cell_type": "code",
   "execution_count": null,
   "id": "e3e562b2",
   "metadata": {},
   "outputs": [],
   "source": []
  }
 ],
 "metadata": {
  "kernelspec": {
   "display_name": "Python 3",
   "language": "python",
   "name": "python3"
  },
  "language_info": {
   "codemirror_mode": {
    "name": "ipython",
    "version": 3
   },
   "file_extension": ".py",
   "mimetype": "text/x-python",
   "name": "python",
   "nbconvert_exporter": "python",
   "pygments_lexer": "ipython3",
   "version": "3.8.8"
  }
 },
 "nbformat": 4,
 "nbformat_minor": 5
}
